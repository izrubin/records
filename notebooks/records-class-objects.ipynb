{
 "cells": [
  {
   "cell_type": "markdown",
   "metadata": {},
   "source": [
    "# The records library\n",
    "\n",
    "After completing assignment 8 you should now have a working `records` Python library that can be imported and which contains a `Records` class object that can be used to query GBIF using `requests`. Here I'll explain my implementation of the `Records` class so that you can compare yours to it. To complete your assignment you will be reviewing your own code, and then updating it to match with the latest version of the `records` library on the course repository. That version has much more code than was assigned originally, and will be explained below. "
   ]
  },
  {
   "cell_type": "markdown",
   "metadata": {},
   "source": [
    "### First, an example implementation\n",
    "According to the instructions for the assignment, you should be able to import your library and execute the code below to perform a GBIF query in which the results are returned and stored in a pandas dataframe that is accessible from your class instance. We'll start with a pretty small query in terms of the time interval so that it will run quickly. "
   ]
  },
  {
   "cell_type": "code",
   "execution_count": 1,
   "metadata": {},
   "outputs": [],
   "source": [
    "import records"
   ]
  },
  {
   "cell_type": "code",
   "execution_count": 2,
   "metadata": {
    "scrolled": true
   },
   "outputs": [],
   "source": [
    "# get results for a query\n",
    "rec = records.Records(\"Bombus\", (1900, 1905))"
   ]
  },
  {
   "cell_type": "code",
   "execution_count": 3,
   "metadata": {},
   "outputs": [
    {
     "data": {
      "text/plain": [
       "(2053, 103)"
      ]
     },
     "execution_count": 3,
     "metadata": {},
     "output_type": "execute_result"
    }
   ],
   "source": [
    "# show number of results in dataframe\n",
    "rec.df.shape"
   ]
  },
  {
   "cell_type": "markdown",
   "metadata": {},
   "source": [
    "### Location of the code-review repository\n",
    "You can find my version of the assignment code in a GitHub repo [here](https://github.com/programming-for-bio/records/tree/assignment). This link is to a `branch` of the records repository that I have named `assignment`, and in which the code has been left at the point where I had completed the assignment. If you look at the `master` branch of the repository you will see that the code has since advanced quite significantly. Here I'm using a branch as a way of storing a snapshot in time of the code (a commit). Another way we could store a snapshot would be by using `git tags` as described [in the git docs](https://git-scm.com/book/en/v2/Git-Basics-Tagging). It's simply a way of putting a more informative name on a particular commit in your history. "
   ]
  },
  {
   "cell_type": "markdown",
   "metadata": {},
   "source": [
    "### Reviewing the code"
   ]
  },
  {
   "cell_type": "markdown",
   "metadata": {},
   "source": [
    "In the `assignment` branch take a look at the file `records/records.py` to see my version of the `Records` class object. I tried to keep this object very simple. Compare your implementation to this one. Think about readability and redundancy. I wrote this code in sublimetext using the pycodestyle and pyflakes linters which helped to provide hints on styling the code. You'll notice that none of the lines are longer than 80 characters long, which help to make them easily readable. As usual, there are multiple ways in which this code could have been written and it would still function just as well. For example, the params dictionary does not necessarily need to be defined in the `__init__` function, but I chose to define it there. Some of the design decisions I made have to do with planning for future extensions to this code, as we'll see in a later section of this notebook. If your code did not work then take time to compare it to the version in the repository to find what the difference was. Modify your code as needed and test it again."
   ]
  },
  {
   "cell_type": "markdown",
   "metadata": {},
   "source": [
    "### Common differences between my code and submitted assignments\n",
    "Some common differences that I saw in student version's of the code versus mine included redundancy in defining some terms multiple times, and errors in updating the offset or limit parameters in the dictionary. Some of these did not cause problems while others might have. Another useful fnction that many people did not include in their code was a method to check whether the API query was successful. If you do not check this then the `.json()` query will typically raise an error when the URL request is bad, but it will not provide a very informative reason why. So you will want to check the Response object to see if the `.get()` call was successful before parsing the json data. There are several ways to check that your URL was good by using attributes of the `requests` Response object, such as `.status_code`, `.raise_for_status`, or `.ok`. Example below. "
   ]
  },
  {
   "cell_type": "code",
   "execution_count": 4,
   "metadata": {},
   "outputs": [],
   "source": [
    "import pandas as pd\n",
    "import numpy as np\n",
    "import requests"
   ]
  },
  {
   "cell_type": "code",
   "execution_count": 5,
   "metadata": {},
   "outputs": [
    {
     "data": {
      "text/plain": [
       "True"
      ]
     },
     "execution_count": 5,
     "metadata": {},
     "output_type": "execute_result"
    }
   ],
   "source": [
    "# example to check the success of a request\n",
    "response = requests.get(\"http://api.gbif.org/v1/occurrence/search?q=Bombus&year=1900\")\n",
    "response.ok"
   ]
  },
  {
   "cell_type": "markdown",
   "metadata": {},
   "source": [
    "#### A note on exception handling "
   ]
  },
  {
   "cell_type": "markdown",
   "metadata": {},
   "source": [
    "The code below has a bad URL string, so it will **raise an exception**. We entered in `basisOfRecord` as a search query but provided it with a value that is not acceptable (e.g., Not \"PRESERVED_SPECIMEN\" or \"FOSSIL_SPECIMEN\"). An exception includes two things, a *traceback* and a *message*. The traceback will show you a bunch of lines of code and will try to hint for you as to where the problem arose in the code. Interpreting tracebacks takes some practice, especially when running code that you did not write, as in the case of `requests`. The traceback will print back a bunch of lines of the code inside `requests` that is running into an error. At some point, it will also include a line of code that has your request. The traceback follows the logical progression as one function calls another and then another. At the very end you will find the **message**, and this is often the most useful. Below we can see that there was a `HTTPError`, and it tells us that the requested URL was not good. When you see this you should examine the URL and try to figure out what is wrong. We would then see that 1900 is a bad argument and replace it with the appropriate value.  "
   ]
  },
  {
   "cell_type": "code",
   "execution_count": 6,
   "metadata": {},
   "outputs": [
    {
     "ename": "HTTPError",
     "evalue": "400 Client Error: Bad Request for url: http://api.gbif.org/v1/occurrence/search?q=Bombus&basisOfRecord=1900",
     "output_type": "error",
     "traceback": [
      "\u001b[1;31m---------------------------------------------------------------------------\u001b[0m",
      "\u001b[1;31mHTTPError\u001b[0m                                 Traceback (most recent call last)",
      "\u001b[1;32m<ipython-input-6-dfafd7f9335b>\u001b[0m in \u001b[0;36m<module>\u001b[1;34m()\u001b[0m\n\u001b[0;32m      1\u001b[0m \u001b[1;31m# example of a bad request\u001b[0m\u001b[1;33m\u001b[0m\u001b[1;33m\u001b[0m\u001b[0m\n\u001b[0;32m      2\u001b[0m \u001b[0mresponse\u001b[0m \u001b[1;33m=\u001b[0m \u001b[0mrequests\u001b[0m\u001b[1;33m.\u001b[0m\u001b[0mget\u001b[0m\u001b[1;33m(\u001b[0m\u001b[1;34m\"http://api.gbif.org/v1/occurrence/search?q=Bombus&basisOfRecord=1900\"\u001b[0m\u001b[1;33m)\u001b[0m\u001b[1;33m\u001b[0m\u001b[0m\n\u001b[1;32m----> 3\u001b[1;33m \u001b[0mresponse\u001b[0m\u001b[1;33m.\u001b[0m\u001b[0mraise_for_status\u001b[0m\u001b[1;33m(\u001b[0m\u001b[1;33m)\u001b[0m\u001b[1;33m\u001b[0m\u001b[0m\n\u001b[0m",
      "\u001b[1;32m~\\Miniconda3\\lib\\site-packages\\requests\\models.py\u001b[0m in \u001b[0;36mraise_for_status\u001b[1;34m(self)\u001b[0m\n\u001b[0;32m    933\u001b[0m \u001b[1;33m\u001b[0m\u001b[0m\n\u001b[0;32m    934\u001b[0m         \u001b[1;32mif\u001b[0m \u001b[0mhttp_error_msg\u001b[0m\u001b[1;33m:\u001b[0m\u001b[1;33m\u001b[0m\u001b[0m\n\u001b[1;32m--> 935\u001b[1;33m             \u001b[1;32mraise\u001b[0m \u001b[0mHTTPError\u001b[0m\u001b[1;33m(\u001b[0m\u001b[0mhttp_error_msg\u001b[0m\u001b[1;33m,\u001b[0m \u001b[0mresponse\u001b[0m\u001b[1;33m=\u001b[0m\u001b[0mself\u001b[0m\u001b[1;33m)\u001b[0m\u001b[1;33m\u001b[0m\u001b[0m\n\u001b[0m\u001b[0;32m    936\u001b[0m \u001b[1;33m\u001b[0m\u001b[0m\n\u001b[0;32m    937\u001b[0m     \u001b[1;32mdef\u001b[0m \u001b[0mclose\u001b[0m\u001b[1;33m(\u001b[0m\u001b[0mself\u001b[0m\u001b[1;33m)\u001b[0m\u001b[1;33m:\u001b[0m\u001b[1;33m\u001b[0m\u001b[0m\n",
      "\u001b[1;31mHTTPError\u001b[0m: 400 Client Error: Bad Request for url: http://api.gbif.org/v1/occurrence/search?q=Bombus&basisOfRecord=1900"
     ]
    }
   ],
   "source": [
    "# example of a bad request \n",
    "response = requests.get(\"http://api.gbif.org/v1/occurrence/search?q=Bombus&basisOfRecord=1900\")\n",
    "response.raise_for_status()"
   ]
  },
  {
   "cell_type": "code",
   "execution_count": 7,
   "metadata": {},
   "outputs": [],
   "source": [
    "# corrected request \n",
    "response = requests.get(\"http://api.gbif.org/v1/occurrence/search?q=Bombus&year=1900\")\n",
    "response.raise_for_status()"
   ]
  },
  {
   "cell_type": "markdown",
   "metadata": {},
   "source": [
    "### Additions to the `records` library \n",
    "\n",
    "We will proceed on Monday to use our library to run some more complex analyses. But first, I'll have you update your code to include some a bunch of new features so that you can see the code, try to interpret it, and even test it out before class. I also explain the new code in `records` in great detail below. If we call our original assignment version of the library 0.1, then let's call this new update version 0.2. You can find version 0.2 of the `records` library [here](https://github.com/programming-for-bio/records). This is the master branch of the same repository where the assignment branch is saved. "
   ]
  },
  {
   "cell_type": "markdown",
   "metadata": {},
   "source": [
    "### Completing your code-review\n",
    "To complete your code review you should update your repository to match the master branch of my `records` repository. You could do this by adding my master branch as a new remote for your git repository and then doing git pull, or, if that feels too complicated, you can also just copy and paste the code into a text editor. The latter might be better as it gives you a chance to examine the code line by line. Update your repository by the time of class on Monday and read through the description below so you have a good understanding of the code. "
   ]
  },
  {
   "cell_type": "markdown",
   "metadata": {},
   "source": [
    "### Additions to `records.py` explained\n",
    "\n",
    "I'll explain each of the new features below that I incorporated into `records.py`. Feel free to try out the code for yourself to see how it works. We'll also work with it in class. "
   ]
  },
  {
   "cell_type": "markdown",
   "metadata": {},
   "source": [
    "** 1. ** I added a `kwargs` argument to the function. We haven't covered this yet, it is a special way of entering arguments to a function in Python. Using kwargs is particularly useful for class objects that store large amounts of information using dictionaries, like our `Records` class object. `kwargs` allows you to pass in an arbitrary number of additional arguments to a function using a dictionary. If your object is already storing information in a dictionary, like the params attribute of the `records` object, then it can be easily updated using kwargs. This is convenient for our API example especially, since there are hundreds of possible arguments to the API and we don't want to have to create an entry for every one of them in our `__init__` function. Instead, the user can simply pass in a dictionary with additional arguments as `kwargs` and update the params dictionary with the kwargs values. The example below shows how this works by using the `.update` function, which is a builtin function of dictionaries to update one dictionary to have the same keys and values as another, while keeping whatever keys and values of its own that aren't present in the other. In other words, it's good for updating a dictionary that is full of default arguments like in our `records` object. Examples are shown below. "
   ]
  },
  {
   "cell_type": "code",
   "execution_count": 8,
   "metadata": {},
   "outputs": [],
   "source": [
    "# an example class that takes one required argument, 'q', and an optional argument **kwargs\n",
    "class Obj:\n",
    "    def __init__(self, q, **kwargs):\n",
    "        \n",
    "        # the default set of params\n",
    "        self.params = {\n",
    "            \"q\": q,\n",
    "            \"a\": 1, \n",
    "            \"b\": 2,\n",
    "            \"c\": 3,\n",
    "        }\n",
    "        \n",
    "        # update params using kwargs\n",
    "        self.params.update(kwargs)\n",
    "        "
   ]
  },
  {
   "cell_type": "code",
   "execution_count": 9,
   "metadata": {},
   "outputs": [
    {
     "data": {
      "text/plain": [
       "{'a': 1, 'b': 2, 'c': 3, 'q': 'Bombus'}"
      ]
     },
     "execution_count": 9,
     "metadata": {},
     "output_type": "execute_result"
    }
   ],
   "source": [
    "# no kwargs argument so the params dictionary stays at its defaults except for 'q' \n",
    "instance = Obj(\"Bombus\")\n",
    "instance.params"
   ]
  },
  {
   "cell_type": "code",
   "execution_count": 10,
   "metadata": {},
   "outputs": [
    {
     "data": {
      "text/plain": [
       "{'a': 100, 'b': 2, 'c': 3, 'd': 200, 'e': 300, 'q': 'Bombus'}"
      ]
     },
     "execution_count": 10,
     "metadata": {},
     "output_type": "execute_result"
    }
   ],
   "source": [
    "# kwargs allows updating the params dict, and even adding new key:val pairs to it\n",
    "instance = Obj(\"Bombus\", **{'a': 100, 'd': 200, 'e': 300})\n",
    "instance.params"
   ]
  },
  {
   "cell_type": "code",
   "execution_count": 11,
   "metadata": {},
   "outputs": [
    {
     "data": {
      "text/plain": [
       "{'a': 1,\n",
       " 'b': 2,\n",
       " 'c': 3,\n",
       " 'kwargs': {'a': 100, 'd': 200, 'e': 300},\n",
       " 'q': 'Bombus'}"
      ]
     },
     "execution_count": 11,
     "metadata": {},
     "output_type": "execute_result"
    }
   ],
   "source": [
    "# not the same as above. The ** is necessary to tell Python this dict is special.\n",
    "instance = Obj(\"Bombus\", kwargs={'a': 100, 'd': 200, 'e': 300})\n",
    "instance.params"
   ]
  },
  {
   "cell_type": "markdown",
   "metadata": {},
   "source": [
    "#### Example using `kwargs` with the updated Records object\n",
    "Since our v.0.2 Records object has a `kwargs` argument we can now add whatever additional arguments we want to the API query. Our default params dictionary sets the \"country\" to \"US\". We can update this using `kwargs` to search other countries. "
   ]
  },
  {
   "cell_type": "code",
   "execution_count": 24,
   "metadata": {},
   "outputs": [
    {
     "data": {
      "text/html": [
       "<div>\n",
       "<style scoped>\n",
       "    .dataframe tbody tr th:only-of-type {\n",
       "        vertical-align: middle;\n",
       "    }\n",
       "\n",
       "    .dataframe tbody tr th {\n",
       "        vertical-align: top;\n",
       "    }\n",
       "\n",
       "    .dataframe thead th {\n",
       "        text-align: right;\n",
       "    }\n",
       "</style>\n",
       "<table border=\"1\" class=\"dataframe\">\n",
       "  <thead>\n",
       "    <tr style=\"text-align: right;\">\n",
       "      <th></th>\n",
       "      <th>species</th>\n",
       "      <th>country</th>\n",
       "      <th>year</th>\n",
       "    </tr>\n",
       "  </thead>\n",
       "  <tbody>\n",
       "    <tr>\n",
       "      <th>0</th>\n",
       "      <td>Bombus imitator</td>\n",
       "      <td>China</td>\n",
       "      <td>1938</td>\n",
       "    </tr>\n",
       "    <tr>\n",
       "      <th>1</th>\n",
       "      <td>Bombus breviceps</td>\n",
       "      <td>China</td>\n",
       "      <td>1937</td>\n",
       "    </tr>\n",
       "    <tr>\n",
       "      <th>2</th>\n",
       "      <td>Bombus mearnsi</td>\n",
       "      <td>China</td>\n",
       "      <td>1938</td>\n",
       "    </tr>\n",
       "    <tr>\n",
       "      <th>3</th>\n",
       "      <td>Bombus mearnsi</td>\n",
       "      <td>China</td>\n",
       "      <td>1938</td>\n",
       "    </tr>\n",
       "    <tr>\n",
       "      <th>4</th>\n",
       "      <td>Bombus mearnsi</td>\n",
       "      <td>China</td>\n",
       "      <td>1938</td>\n",
       "    </tr>\n",
       "    <tr>\n",
       "      <th>5</th>\n",
       "      <td>Bombus ladakhensis</td>\n",
       "      <td>China</td>\n",
       "      <td>1996</td>\n",
       "    </tr>\n",
       "    <tr>\n",
       "      <th>6</th>\n",
       "      <td>Bombus imitator</td>\n",
       "      <td>China</td>\n",
       "      <td>1938</td>\n",
       "    </tr>\n",
       "    <tr>\n",
       "      <th>7</th>\n",
       "      <td>Bombus eximius</td>\n",
       "      <td>China</td>\n",
       "      <td>1938</td>\n",
       "    </tr>\n",
       "    <tr>\n",
       "      <th>8</th>\n",
       "      <td>Bombus imitator</td>\n",
       "      <td>China</td>\n",
       "      <td>1938</td>\n",
       "    </tr>\n",
       "    <tr>\n",
       "      <th>9</th>\n",
       "      <td>Bombus flavescens</td>\n",
       "      <td>China</td>\n",
       "      <td>1938</td>\n",
       "    </tr>\n",
       "  </tbody>\n",
       "</table>\n",
       "</div>"
      ],
      "text/plain": [
       "              species country  year\n",
       "0     Bombus imitator   China  1938\n",
       "1    Bombus breviceps   China  1937\n",
       "2      Bombus mearnsi   China  1938\n",
       "3      Bombus mearnsi   China  1938\n",
       "4      Bombus mearnsi   China  1938\n",
       "5  Bombus ladakhensis   China  1996\n",
       "6     Bombus imitator   China  1938\n",
       "7      Bombus eximius   China  1938\n",
       "8     Bombus imitator   China  1938\n",
       "9   Bombus flavescens   China  1938"
      ]
     },
     "execution_count": 24,
     "metadata": {},
     "output_type": "execute_result"
    }
   ],
   "source": [
    "# find all records of Bombus from 1935 up to 2010 from China\n",
    "rec = records.Records(\"Bombus\", (1935, 2010), **{\"country\": \"CN\"})\n",
    "rec.df[[\"species\", \"country\", \"year\"]].head(10)"
   ]
  },
  {
   "cell_type": "code",
   "execution_count": 25,
   "metadata": {},
   "outputs": [
    {
     "data": {
      "text/html": [
       "<div>\n",
       "<style scoped>\n",
       "    .dataframe tbody tr th:only-of-type {\n",
       "        vertical-align: middle;\n",
       "    }\n",
       "\n",
       "    .dataframe tbody tr th {\n",
       "        vertical-align: top;\n",
       "    }\n",
       "\n",
       "    .dataframe thead th {\n",
       "        text-align: right;\n",
       "    }\n",
       "</style>\n",
       "<table border=\"1\" class=\"dataframe\">\n",
       "  <thead>\n",
       "    <tr style=\"text-align: right;\">\n",
       "      <th></th>\n",
       "      <th>species</th>\n",
       "      <th>country</th>\n",
       "      <th>year</th>\n",
       "    </tr>\n",
       "  </thead>\n",
       "  <tbody>\n",
       "    <tr>\n",
       "      <th>0</th>\n",
       "      <td>Bombus bifarius</td>\n",
       "      <td>United States</td>\n",
       "      <td>1936</td>\n",
       "    </tr>\n",
       "    <tr>\n",
       "      <th>1</th>\n",
       "      <td>Bombus centralis</td>\n",
       "      <td>United States</td>\n",
       "      <td>1935</td>\n",
       "    </tr>\n",
       "    <tr>\n",
       "      <th>2</th>\n",
       "      <td>Bombus terricola</td>\n",
       "      <td>United States</td>\n",
       "      <td>1935</td>\n",
       "    </tr>\n",
       "    <tr>\n",
       "      <th>3</th>\n",
       "      <td>Bombus rufocinctus</td>\n",
       "      <td>United States</td>\n",
       "      <td>1935</td>\n",
       "    </tr>\n",
       "    <tr>\n",
       "      <th>4</th>\n",
       "      <td>Bombus jonellus</td>\n",
       "      <td>Norway</td>\n",
       "      <td>1935</td>\n",
       "    </tr>\n",
       "    <tr>\n",
       "      <th>5</th>\n",
       "      <td>Bombus soroeensis</td>\n",
       "      <td>Norway</td>\n",
       "      <td>1936</td>\n",
       "    </tr>\n",
       "    <tr>\n",
       "      <th>6</th>\n",
       "      <td>Bombus lucorum</td>\n",
       "      <td>Norway</td>\n",
       "      <td>1935</td>\n",
       "    </tr>\n",
       "    <tr>\n",
       "      <th>7</th>\n",
       "      <td>Bombus hortorum</td>\n",
       "      <td>Norway</td>\n",
       "      <td>1936</td>\n",
       "    </tr>\n",
       "    <tr>\n",
       "      <th>8</th>\n",
       "      <td>Bombus pascuorum</td>\n",
       "      <td>Norway</td>\n",
       "      <td>1936</td>\n",
       "    </tr>\n",
       "    <tr>\n",
       "      <th>9</th>\n",
       "      <td>Bombus balteatus</td>\n",
       "      <td>Norway</td>\n",
       "      <td>1936</td>\n",
       "    </tr>\n",
       "  </tbody>\n",
       "</table>\n",
       "</div>"
      ],
      "text/plain": [
       "              species        country  year\n",
       "0     Bombus bifarius  United States  1936\n",
       "1    Bombus centralis  United States  1935\n",
       "2    Bombus terricola  United States  1935\n",
       "3  Bombus rufocinctus  United States  1935\n",
       "4     Bombus jonellus         Norway  1935\n",
       "5   Bombus soroeensis         Norway  1936\n",
       "6      Bombus lucorum         Norway  1935\n",
       "7     Bombus hortorum         Norway  1936\n",
       "8    Bombus pascuorum         Norway  1936\n",
       "9    Bombus balteatus         Norway  1936"
      ]
     },
     "execution_count": 25,
     "metadata": {},
     "output_type": "execute_result"
    }
   ],
   "source": [
    "# find all records of Bombus from 1935-1936 without country designated\n",
    "rec = records.Records(\"Bombus\", (1935, 1936), **{\"country\": None})\n",
    "rec.df[[\"species\", \"country\", \"year\"]].head(10)"
   ]
  },
  {
   "cell_type": "markdown",
   "metadata": {},
   "source": [
    "** 2. ** I also added a special type of function called a `property` to our class. This function called `sdf` simply has a decorator above it (`@property`) which defines that this will act a bit differently from a normal function. Essentially, it acts like an attribute in that it returns something, but the return value is not fixed, so in that sense it works like function to calculate the value. Here we simply use it to subselect a number of columns from the .df dataframe so that we have a quick and easy way to view a small number of columns, instead of the >100 columns that are in the dataframe. See the docstring in the code for more details, or search google for property decorators in Python. This is a special feature that I'm showing so that you know that decorators exist, but these are an optional tool, again used mostly for stylistic reasons. \n"
   ]
  },
  {
   "cell_type": "code",
   "execution_count": 29,
   "metadata": {},
   "outputs": [
    {
     "data": {
      "text/html": [
       "<div>\n",
       "<style scoped>\n",
       "    .dataframe tbody tr th:only-of-type {\n",
       "        vertical-align: middle;\n",
       "    }\n",
       "\n",
       "    .dataframe tbody tr th {\n",
       "        vertical-align: top;\n",
       "    }\n",
       "\n",
       "    .dataframe thead th {\n",
       "        text-align: right;\n",
       "    }\n",
       "</style>\n",
       "<table border=\"1\" class=\"dataframe\">\n",
       "  <thead>\n",
       "    <tr style=\"text-align: right;\">\n",
       "      <th></th>\n",
       "      <th>species</th>\n",
       "      <th>year</th>\n",
       "      <th>country</th>\n",
       "      <th>stateProvince</th>\n",
       "    </tr>\n",
       "  </thead>\n",
       "  <tbody>\n",
       "    <tr>\n",
       "      <th>0</th>\n",
       "      <td>Bombus bifarius</td>\n",
       "      <td>1936</td>\n",
       "      <td>United States</td>\n",
       "      <td>Idaho</td>\n",
       "    </tr>\n",
       "    <tr>\n",
       "      <th>1</th>\n",
       "      <td>Bombus centralis</td>\n",
       "      <td>1935</td>\n",
       "      <td>United States</td>\n",
       "      <td>Oregon</td>\n",
       "    </tr>\n",
       "    <tr>\n",
       "      <th>2</th>\n",
       "      <td>Bombus terricola</td>\n",
       "      <td>1935</td>\n",
       "      <td>United States</td>\n",
       "      <td>Oregon</td>\n",
       "    </tr>\n",
       "    <tr>\n",
       "      <th>3</th>\n",
       "      <td>Bombus rufocinctus</td>\n",
       "      <td>1935</td>\n",
       "      <td>United States</td>\n",
       "      <td>Maine</td>\n",
       "    </tr>\n",
       "    <tr>\n",
       "      <th>4</th>\n",
       "      <td>Bombus jonellus</td>\n",
       "      <td>1935</td>\n",
       "      <td>Norway</td>\n",
       "      <td>Rogaland</td>\n",
       "    </tr>\n",
       "    <tr>\n",
       "      <th>5</th>\n",
       "      <td>Bombus soroeensis</td>\n",
       "      <td>1936</td>\n",
       "      <td>Norway</td>\n",
       "      <td>Rogaland</td>\n",
       "    </tr>\n",
       "    <tr>\n",
       "      <th>6</th>\n",
       "      <td>Bombus lucorum</td>\n",
       "      <td>1935</td>\n",
       "      <td>Norway</td>\n",
       "      <td>Rogaland</td>\n",
       "    </tr>\n",
       "    <tr>\n",
       "      <th>7</th>\n",
       "      <td>Bombus hortorum</td>\n",
       "      <td>1936</td>\n",
       "      <td>Norway</td>\n",
       "      <td>Rogaland</td>\n",
       "    </tr>\n",
       "    <tr>\n",
       "      <th>8</th>\n",
       "      <td>Bombus pascuorum</td>\n",
       "      <td>1936</td>\n",
       "      <td>Norway</td>\n",
       "      <td>Hordaland</td>\n",
       "    </tr>\n",
       "    <tr>\n",
       "      <th>9</th>\n",
       "      <td>Bombus balteatus</td>\n",
       "      <td>1936</td>\n",
       "      <td>Norway</td>\n",
       "      <td>Rogaland</td>\n",
       "    </tr>\n",
       "  </tbody>\n",
       "</table>\n",
       "</div>"
      ],
      "text/plain": [
       "              species  year        country stateProvince\n",
       "0     Bombus bifarius  1936  United States         Idaho\n",
       "1    Bombus centralis  1935  United States        Oregon\n",
       "2    Bombus terricola  1935  United States        Oregon\n",
       "3  Bombus rufocinctus  1935  United States         Maine\n",
       "4     Bombus jonellus  1935         Norway      Rogaland\n",
       "5   Bombus soroeensis  1936         Norway      Rogaland\n",
       "6      Bombus lucorum  1935         Norway      Rogaland\n",
       "7     Bombus hortorum  1936         Norway      Rogaland\n",
       "8    Bombus pascuorum  1936         Norway     Hordaland\n",
       "9    Bombus balteatus  1936         Norway      Rogaland"
      ]
     },
     "execution_count": 29,
     "metadata": {},
     "output_type": "execute_result"
    }
   ],
   "source": [
    "# show the first 10 records using the 'sdf' view, which shows only a few columns\n",
    "rec.sdf.head(10)"
   ]
  },
  {
   "cell_type": "markdown",
   "metadata": {},
   "source": [
    "** 3. ** The biggest change to the code is that I created another new class object called `Epochs`, which is used to create `Records` instances across a range of year intervals. I thought this would be a nice design since the Records objects will be focused on performing individual web searches whereas the `Epochs` object will be focused on doing analyses of those objects. We could have just one class object do both things, it is simply a design decision in this case to atomize the code in this way. \n",
    "\n",
    "The `Epochs` object takes as arguments the query, the starting year, the ending year, and the interval size, as well as kwargs. Below is an example. I then explain the code for the Epochs class in more detail. "
   ]
  },
  {
   "cell_type": "code",
   "execution_count": 30,
   "metadata": {},
   "outputs": [],
   "source": [
    "# create an Epochs instance to sample 7 3-year intervals of bumblebees from Canada\n",
    "ep = records.Epochs(\"Bombus\", 1900, 1921, 3, **{\"country\": \"CA\"})"
   ]
  },
  {
   "cell_type": "code",
   "execution_count": 31,
   "metadata": {},
   "outputs": [
    {
     "data": {
      "text/html": [
       "<div>\n",
       "<style scoped>\n",
       "    .dataframe tbody tr th:only-of-type {\n",
       "        vertical-align: middle;\n",
       "    }\n",
       "\n",
       "    .dataframe tbody tr th {\n",
       "        vertical-align: top;\n",
       "    }\n",
       "\n",
       "    .dataframe thead th {\n",
       "        text-align: right;\n",
       "    }\n",
       "</style>\n",
       "<table border=\"1\" class=\"dataframe\">\n",
       "  <thead>\n",
       "    <tr style=\"text-align: right;\">\n",
       "      <th></th>\n",
       "      <th>species</th>\n",
       "      <th>year</th>\n",
       "      <th>epoch</th>\n",
       "      <th>country</th>\n",
       "      <th>stateProvince</th>\n",
       "    </tr>\n",
       "  </thead>\n",
       "  <tbody>\n",
       "    <tr>\n",
       "      <th>0</th>\n",
       "      <td>Bombus fervidus</td>\n",
       "      <td>1900</td>\n",
       "      <td>1900</td>\n",
       "      <td>Canada</td>\n",
       "      <td>Ontario</td>\n",
       "    </tr>\n",
       "    <tr>\n",
       "      <th>1</th>\n",
       "      <td>Bombus borealis</td>\n",
       "      <td>1900</td>\n",
       "      <td>1900</td>\n",
       "      <td>Canada</td>\n",
       "      <td>Manitoba</td>\n",
       "    </tr>\n",
       "    <tr>\n",
       "      <th>2</th>\n",
       "      <td>Bombus vagans</td>\n",
       "      <td>1900</td>\n",
       "      <td>1900</td>\n",
       "      <td>Canada</td>\n",
       "      <td>New Brunswick</td>\n",
       "    </tr>\n",
       "    <tr>\n",
       "      <th>3</th>\n",
       "      <td>Bombus sandersoni</td>\n",
       "      <td>1901</td>\n",
       "      <td>1900</td>\n",
       "      <td>Canada</td>\n",
       "      <td>Ontario</td>\n",
       "    </tr>\n",
       "    <tr>\n",
       "      <th>4</th>\n",
       "      <td>Bombus occidentalis</td>\n",
       "      <td>1901</td>\n",
       "      <td>1900</td>\n",
       "      <td>Canada</td>\n",
       "      <td>British Columbia</td>\n",
       "    </tr>\n",
       "    <tr>\n",
       "      <th>5</th>\n",
       "      <td>Bombus bifarius</td>\n",
       "      <td>1901</td>\n",
       "      <td>1900</td>\n",
       "      <td>Canada</td>\n",
       "      <td>British Columbia</td>\n",
       "    </tr>\n",
       "    <tr>\n",
       "      <th>6</th>\n",
       "      <td>Bombus fervidus</td>\n",
       "      <td>1901</td>\n",
       "      <td>1900</td>\n",
       "      <td>Canada</td>\n",
       "      <td>British Columbia</td>\n",
       "    </tr>\n",
       "    <tr>\n",
       "      <th>7</th>\n",
       "      <td>Bombus terricola</td>\n",
       "      <td>1901</td>\n",
       "      <td>1900</td>\n",
       "      <td>Canada</td>\n",
       "      <td>Ontario</td>\n",
       "    </tr>\n",
       "    <tr>\n",
       "      <th>8</th>\n",
       "      <td>Bombus bifarius</td>\n",
       "      <td>1901</td>\n",
       "      <td>1900</td>\n",
       "      <td>Canada</td>\n",
       "      <td>British Columbia</td>\n",
       "    </tr>\n",
       "    <tr>\n",
       "      <th>9</th>\n",
       "      <td>Bombus bifarius</td>\n",
       "      <td>1901</td>\n",
       "      <td>1900</td>\n",
       "      <td>Canada</td>\n",
       "      <td>British Columbia</td>\n",
       "    </tr>\n",
       "  </tbody>\n",
       "</table>\n",
       "</div>"
      ],
      "text/plain": [
       "               species  year  epoch country     stateProvince\n",
       "0      Bombus fervidus  1900   1900  Canada           Ontario\n",
       "1      Bombus borealis  1900   1900  Canada          Manitoba\n",
       "2        Bombus vagans  1900   1900  Canada     New Brunswick\n",
       "3    Bombus sandersoni  1901   1900  Canada           Ontario\n",
       "4  Bombus occidentalis  1901   1900  Canada  British Columbia\n",
       "5      Bombus bifarius  1901   1900  Canada  British Columbia\n",
       "6      Bombus fervidus  1901   1900  Canada  British Columbia\n",
       "7     Bombus terricola  1901   1900  Canada           Ontario\n",
       "8      Bombus bifarius  1901   1900  Canada  British Columbia\n",
       "9      Bombus bifarius  1901   1900  Canada  British Columbia"
      ]
     },
     "execution_count": 31,
     "metadata": {},
     "output_type": "execute_result"
    }
   ],
   "source": [
    "# look at view of records (sdf of Epochs shows \"epoch\" column as well)\n",
    "ep.sdf.head(10)"
   ]
  },
  {
   "cell_type": "markdown",
   "metadata": {},
   "source": [
    "#### The Epochs class explained. \n",
    "Each section below is describing a part of the Epochs class in order:"
   ]
  },
  {
   "cell_type": "markdown",
   "metadata": {},
   "source": [
    "(1) In the code, I use range to create the range of intervals that we will enter to the Requests class objects.\n",
    "\n",
    "```python\n",
    "# make a range of epochs\n",
    "epochs = range(start, end, epochsize)\n",
    "\n",
    "```\n",
    "\n",
    "(2) Here I use list-comprehension to create a dictionary of Records objects for each interval, and pass in kwargs to them as well. \n",
    "\n",
    "```python\n",
    "# get Record objects across the epoch range\n",
    "rdicts = {\n",
    "    i: Records(q, (i, i + epochsize), **kwargs) for i in epochs\n",
    "}\n",
    "```\n",
    "\n",
    "(3) I add a new column to each Record.df called 'epoch', and store the epoch that we used in our search query. This uses *broadcasting* to allow us to enter a single value and have it fill then entire column of data. Broadcasting was covered in our reading about numpy. Feel free to review the chapters of the Data Science Handbook on numpy and pandas, it's super useful stuff. \n",
    "\n",
    "```python\n",
    "# store epoch value in each dataframe, this is just the start interval\n",
    "for epoch in rdicts:\n",
    "    rdicts[epoch].df[\"epoch\"] = epoch\n",
    "```\n",
    "\n",
    "(4) Check that there was actually some results returned, if not, then we will skip the next part. This statement asks whether the dictionary `rdicts` is empty or not by simply asking `if rdicts`. \n",
    "\n",
    "```python\n",
    "# if rdicts, then build dataframe, otherwise skip it. \n",
    "if rdicts:\n",
    "    ...\n",
    "```\n",
    "\n",
    "(5) Again, we use list-comprehension to access multiple items from the rdicts dictionary. Here I access the `.df` attribute from each Records instance, which provides a list of dataframes to the `pd.concat()` function which will then concatenate them to create one large dataframe. \n",
    "\n",
    "```python\n",
    "# concatenate all dataframes into one\n",
    "self.df = pd.concat([i.df for i in rdicts.values()])\n",
    "```\n",
    "\n",
    "(6) Last, I sort the dataframe. The syntax here is worth noting. This is a very clean and readable way to apply multiple transformations to a pandas dataframe. Remember that we can chain together multiple functions by using the dot attributes of the objects. If we wrap all of them in a parentheses then we can do this over multiple lines. Here I call `sort_values` with the argument `by='year'`, and then I call `reset_index` so that the index (row numbers) will be reset to be 0-N. If you don't reset the index after sorting then it will keep the old index order, although the values will be rearranged. This is because you might be interested in what the index order was before sorting. Here we're not interested, so we'll reset the index and use drop=True, which means discard the old index. Try this out on a dataframe of your own, see how using a different value for the by=\"column name\" argument changes the sorting, and how drop=True versus drop=False changes the results. Remember, these functions only return a new *view* of the dataframe. To save the new view we need to store it as a variable. I set it to .df so that it overwrites the old unsorted dataframe. \n",
    "\n",
    "```python\n",
    "# sort values by year, and reset index without keeping old index\n",
    "self.df = (\n",
    "    self.df\n",
    "    .sort_values(by=\"year\")\n",
    "    .reset_index(drop=True)\n",
    "    )\n",
    "\n",
    "# or, this is same as above, a bit less easily readable but more compact.\n",
    "self.df = self.df.sort_values(by=\"year\").reset_index(drop=True)\n",
    "```\n"
   ]
  },
  {
   "cell_type": "markdown",
   "metadata": {},
   "source": [
    "### Now that we have our data, we can write analysis functions for the class\n",
    "If the next part of the code is overly confusing then you may want to review the Data Science Handbook chapter on using `pandas` dataframes, and also refer to the pandas documentation. Pandas is an incredibly powerful and elegant library, but it takes time to learn. Here we'll be using some of the more useful functions in the library for manipulating data in dataframes. These tricks are generally useful for all sorts of computations. The core workflow we will be using is generally to use a `.groupby()` function call, following by a `.apply()` function call. The first is used to find all records in the dataframe that share some common element, for example `groupby(\"species\")`, and the second is used to apply any arbitrary function to groups. This could be a builtin function or numpy function like `sum`, `mean`, or `unique`, or it can be a function that you write yourself. Below are several examples. "
   ]
  },
  {
   "cell_type": "code",
   "execution_count": 32,
   "metadata": {},
   "outputs": [
    {
     "data": {
      "text/plain": [
       "<pandas.core.groupby.DataFrameGroupBy object at 0x000002C9985D55F8>"
      ]
     },
     "execution_count": 32,
     "metadata": {},
     "output_type": "execute_result"
    }
   ],
   "source": [
    "# calling groupby by itself returns a groupby object (we still need to do something)\n",
    "ep.sdf.groupby(\"stateProvince\")"
   ]
  },
  {
   "cell_type": "code",
   "execution_count": 33,
   "metadata": {},
   "outputs": [
    {
     "data": {
      "text/plain": [
       "<pandas.core.groupby.SeriesGroupBy object at 0x000002C996AD0D30>"
      ]
     },
     "execution_count": 33,
     "metadata": {},
     "output_type": "execute_result"
    }
   ],
   "source": [
    "# Each group is a dataframe in itself, and you can select columns of it. \n",
    "# You can see that .year now return groups of pandas Series objects\n",
    "ep.sdf.groupby(\"stateProvince\").year"
   ]
  },
  {
   "cell_type": "code",
   "execution_count": 34,
   "metadata": {},
   "outputs": [
    {
     "data": {
      "text/plain": [
       "stateProvince\n",
       "Alberta                      1914\n",
       "British Columbia             1915\n",
       "Manitoba                     1913\n",
       "New Brunswick                1918\n",
       "Newfoundland                 1920\n",
       "Newfoundland and Labrador    1907\n",
       "Northwest Territories        1903\n",
       "Nova Scotia                  1908\n",
       "Nunavut                      1915\n",
       "Ontario                      1913\n",
       "Prince Edward Island         1909\n",
       "Quebec                       1917\n",
       "Sakatchewan                  1909\n",
       "Saskatchewan                 1914\n",
       "Vancouver Island             1913\n",
       "Yukon                        1919\n",
       "Yukon Territory              1916\n",
       "Name: year, dtype: int32"
      ]
     },
     "execution_count": 34,
     "metadata": {},
     "output_type": "execute_result"
    }
   ],
   "source": [
    "# apply calls a function on every group. Let's calculate the median year of collections\n",
    "# records from each state in our data set. Finally I call astype to convert to ints.\n",
    "ep.sdf.groupby(\"stateProvince\").year.apply(np.median).astype(int)"
   ]
  },
  {
   "cell_type": "markdown",
   "metadata": {},
   "source": [
    "#### Typo fixes\n",
    "Note that there are typos in some of the records above. For example, at least one of the records has it's state listed as \"Sakatchewan\". We can fix this easily by indexing values of the data with this term and replacing them with the correct one. The equality statements below are used to find the index (row) of the matching values, and then the column name is listed in the column index. To select cells by index and column names we use the `.loc[ind, col]` syntax. "
   ]
  },
  {
   "cell_type": "code",
   "execution_count": 35,
   "metadata": {},
   "outputs": [],
   "source": [
    "# fix some typos\n",
    "ep.df.loc[ep.df.stateProvince==\"Sakatchewan\", \"stateProvince\"] = \"Saskatchewan\"\n",
    "ep.df.loc[ep.df.stateProvince==\"Yukon\", \"stateProvince\"] = \"Yukon Territory\"\n",
    "ep.df.loc[ep.df.stateProvince==\"Newfoundland\", \"stateProvince\"] = \"Newfoundland and Labrador\""
   ]
  },
  {
   "cell_type": "code",
   "execution_count": 36,
   "metadata": {},
   "outputs": [
    {
     "data": {
      "text/plain": [
       "stateProvince\n",
       "Alberta                      1914\n",
       "British Columbia             1915\n",
       "Manitoba                     1913\n",
       "New Brunswick                1918\n",
       "Newfoundland and Labrador    1907\n",
       "Northwest Territories        1903\n",
       "Nova Scotia                  1908\n",
       "Nunavut                      1915\n",
       "Ontario                      1913\n",
       "Prince Edward Island         1909\n",
       "Quebec                       1917\n",
       "Saskatchewan                 1914\n",
       "Vancouver Island             1913\n",
       "Yukon Territory              1919\n",
       "Name: year, dtype: int32"
      ]
     },
     "execution_count": 36,
     "metadata": {},
     "output_type": "execute_result"
    }
   ],
   "source": [
    "# filter for na values, groupby state, select years, and apply median function\n",
    "(ep.df[ep.df.stateProvince.notna() & ep.df.year.notna()]\n",
    " .groupby(\"stateProvince\")\n",
    " .year\n",
    " .apply(np.median)\n",
    " .astype(int)\n",
    ")"
   ]
  },
  {
   "cell_type": "code",
   "execution_count": 37,
   "metadata": {},
   "outputs": [
    {
     "data": {
      "text/plain": [
       "epoch\n",
       "1900    21\n",
       "1903    28\n",
       "1906    29\n",
       "1909    31\n",
       "1912    38\n",
       "1915    33\n",
       "1918    35\n",
       "Name: species, dtype: int64"
      ]
     },
     "execution_count": 37,
     "metadata": {},
     "output_type": "execute_result"
    }
   ],
   "source": [
    "# define a custom function\n",
    "def count_unique_values(series):\n",
    "    \"counts the number of unique species\"\n",
    "    return np.unique(series).size\n",
    "\n",
    "# call apply on my function\n",
    "(ep.df[ep.df.species.notna()]\n",
    " .groupby(\"epoch\")\n",
    " .species\n",
    " .apply(count_unique_values)\n",
    ")"
   ]
  },
  {
   "cell_type": "markdown",
   "metadata": {},
   "source": [
    "### Calculating simpson's diversity\n",
    "[Simpson's diversity index](https://en.wikipedia.org/wiki/Diversity_index#Simpson_index) is a common measure used to calculate species diversity in a geographic region. It measures the probability that any two individuals sampled at random from a community are the same species. Look at the code to see how it is calculated. The equation is quite simple. Below is a function written for the Epoch class that can calculate Simpsons's diversity for whichever groupby column name the user enters. We'll use this quite a bit later. "
   ]
  },
  {
   "cell_type": "code",
   "execution_count": 38,
   "metadata": {},
   "outputs": [
    {
     "data": {
      "text/plain": [
       "stateProvince\n",
       "Alberta                      0.919960\n",
       "British Columbia             0.885258\n",
       "Manitoba                     0.863905\n",
       "New Brunswick                0.799114\n",
       "Newfoundland and Labrador    0.730159\n",
       "Northwest Territories        0.834467\n",
       "Nova Scotia                  0.775656\n",
       "Nunavut                      0.602716\n",
       "Ontario                      0.889101\n",
       "Prince Edward Island         0.444444\n",
       "Quebec                       0.842583\n",
       "Saskatchewan                 0.821285\n",
       "Vancouver Island                  NaN\n",
       "Yukon Territory              0.859568\n",
       "Name: species, dtype: float64"
      ]
     },
     "execution_count": 38,
     "metadata": {},
     "output_type": "execute_result"
    }
   ],
   "source": [
    "# calculate diversity in space\n",
    "ep.simpsons_diversity(by=\"stateProvince\")"
   ]
  },
  {
   "cell_type": "code",
   "execution_count": 39,
   "metadata": {},
   "outputs": [
    {
     "data": {
      "text/plain": [
       "epoch\n",
       "1900    0.917793\n",
       "1903    0.917234\n",
       "1906    0.917822\n",
       "1909    0.924506\n",
       "1912    0.943998\n",
       "1915    0.943072\n",
       "1918    0.923183\n",
       "Name: species, dtype: float64"
      ]
     },
     "execution_count": 39,
     "metadata": {},
     "output_type": "execute_result"
    }
   ],
   "source": [
    "# calculate diversity in space\n",
    "ep.simpsons_diversity(by=\"epoch\")"
   ]
  },
  {
   "cell_type": "markdown",
   "metadata": {},
   "source": [
    "### Saving and loding data\n",
    "The Records and Epochs class objects are really nice for working with data on GBIF, and so all of the analyses we do with them should be reproducible since we start by downloading the data directly and so other users should be able to copy our code as well, there may be instances where we download a large database of records and then want to save them so that if we return later and want to work on them again we do not need to run the long and slow download step again. The most convenient format for saving these data in is CSV (comma separated values). In the code you can see that I wrote a function called `load_epochs_from_csv` which simply uses pandas to load a csv and set it to the `.df` attribute of an empty Epochs class object. Below is an example usage. To make the `.load_epochs_from_csv` function accessible from the `records` library I had to add it to the `__init__.py` file. Same with the `Epochs` class object. "
   ]
  },
  {
   "cell_type": "code",
   "execution_count": null,
   "metadata": {
    "scrolled": true
   },
   "outputs": [],
   "source": [
    "# save data to disk\n",
    "ep.df.to_csv(\"../data/Bombus-data.csv\")\n",
    "\n",
    "# load data from disk into an Epochs class object\n",
    "ep = records.load_epochs_from_csv(\"../data/Bombus-data.csv\")\n",
    "\n",
    "# show that it worked\n",
    "ep.df.shape"
   ]
  },
  {
   "cell_type": "code",
   "execution_count": null,
   "metadata": {},
   "outputs": [],
   "source": []
  }
 ],
 "metadata": {
  "kernelspec": {
   "display_name": "Python 3",
   "language": "python",
   "name": "python3"
  },
  "language_info": {
   "codemirror_mode": {
    "name": "ipython",
    "version": 3
   },
   "file_extension": ".py",
   "mimetype": "text/x-python",
   "name": "python",
   "nbconvert_exporter": "python",
   "pygments_lexer": "ipython3",
   "version": "3.6.5"
  }
 },
 "nbformat": 4,
 "nbformat_minor": 2
}
